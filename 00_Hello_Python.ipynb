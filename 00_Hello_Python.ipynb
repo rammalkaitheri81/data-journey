{
  "nbformat": 4,
  "nbformat_minor": 0,
  "metadata": {
    "colab": {
      "name": "00 Hello Python.ipynb",
      "provenance": [],
      "include_colab_link": true
    },
    "kernelspec": {
      "name": "python3",
      "display_name": "Python 3"
    },
    "language_info": {
      "name": "python"
    }
  },
  "cells": [
    {
      "cell_type": "markdown",
      "metadata": {
        "id": "view-in-github",
        "colab_type": "text"
      },
      "source": [
        "<a href=\"https://colab.research.google.com/github/rammalkaitheri81/data-journey/blob/main/00_Hello_Python.ipynb\" target=\"_parent\"><img src=\"https://colab.research.google.com/assets/colab-badge.svg\" alt=\"Open In Colab\"/></a>"
      ]
    },
    {
      "cell_type": "code",
      "metadata": {
        "id": "l7LNVy0JNL-m"
      },
      "source": [
        "# CPU-> semiconductors, transistors \n",
        "#    -> hardware -> Motherboards, RAM, Processor "
      ],
      "execution_count": null,
      "outputs": []
    },
    {
      "cell_type": "code",
      "metadata": {
        "id": "ksBlIIroPEsO"
      },
      "source": [
        "# 0 and 1\n",
        "# 10, 11, 12 ...\n",
        "# 10 fingers-> decimal counting \n",
        "\n",
        "# 0.. 1\n",
        "# On and Off logic---- True and False ---- 1 and 0\n",
        "# Boolean"
      ],
      "execution_count": null,
      "outputs": []
    },
    {
      "cell_type": "code",
      "metadata": {
        "id": "hj7tW5UTPkxh"
      },
      "source": [
        "# Gates-> Not (Invertor)\n",
        "# Input Logic       Output Logic \n",
        "#  ON or True or 1      OFF or False or 0\n",
        "\n",
        "#.  bulb1.   bulb2.       \n",
        "# Input1.    Input2      And Gate     Or Gate     ExclusiveOR (XOR)\n",
        "#.    0       0           0            0           0\n",
        "#     0       1           0            1           1\n",
        "#     1       0           0            1           1\n",
        "#     1.      1.          1            1           0\n"
      ],
      "execution_count": null,
      "outputs": []
    },
    {
      "cell_type": "code",
      "metadata": {
        "colab": {
          "base_uri": "https://localhost:8080/"
        },
        "id": "_QFIpd84VIVA",
        "outputId": "c2dc3014-28f9-4285-9508-88da88cf39fd"
      },
      "source": [
        "if(True and True):\n",
        "  print(\"Blah blah1\")\n",
        "if(True and False):\n",
        "  print(\"Blah blah2\")\n",
        "if(True or False):\n",
        "  print(\"Blah blah3\")"
      ],
      "execution_count": null,
      "outputs": [
        {
          "output_type": "stream",
          "name": "stdout",
          "text": [
            "Blah blah1\n",
            "Blah blah3\n"
          ]
        }
      ]
    },
    {
      "cell_type": "code",
      "metadata": {
        "colab": {
          "base_uri": "https://localhost:8080/"
        },
        "id": "u7yLoSVkVlH-",
        "outputId": "3d02d7c7-d04a-4245-f7fe-a00d9415aaf6"
      },
      "source": [
        "if((5>3) and (-2<-10)):\n",
        "  print(\"Blah blah1\")\n",
        "if(( 9>8 or 0<-1) and (len(\"my shoes\") < 5)):\n",
        "  print(\"Blah blah2\")\n",
        "if(True or False):\n",
        "  print(\"Blah blah3\")"
      ],
      "execution_count": null,
      "outputs": [
        {
          "output_type": "stream",
          "name": "stdout",
          "text": [
            "Blah blah3\n"
          ]
        }
      ]
    },
    {
      "cell_type": "code",
      "metadata": {
        "colab": {
          "base_uri": "https://localhost:8080/"
        },
        "id": "n6UCcyTsWoUS",
        "outputId": "e277c7f8-114f-494d-8a10-e80a760f5ce9"
      },
      "source": [
        "len(\"ABCDEFG\")"
      ],
      "execution_count": null,
      "outputs": [
        {
          "output_type": "execute_result",
          "data": {
            "text/plain": [
              "7"
            ]
          },
          "metadata": {},
          "execution_count": 24
        }
      ]
    },
    {
      "cell_type": "code",
      "metadata": {
        "id": "lvozVmytQW8W"
      },
      "source": [
        "# set theory -> { banana, banana, apple, apple}\n",
        "# => { banana, apple } == { apple, banana}"
      ],
      "execution_count": null,
      "outputs": []
    },
    {
      "cell_type": "code",
      "metadata": {
        "colab": {
          "base_uri": "https://localhost:8080/"
        },
        "id": "vvBRWysiQkxN",
        "outputId": "a2e8a143-3884-4669-ebff-f1ae4e875156"
      },
      "source": [
        "# Set -> UNORDERED, UNINDEXED\n",
        "set1 = { 1.42, 'banana', 'banana', 0, False, 'Pikachu'}\n",
        "print(set1)"
      ],
      "execution_count": null,
      "outputs": [
        {
          "output_type": "stream",
          "name": "stdout",
          "text": [
            "{0, 1.42, 'Pikachu', 'banana'}\n"
          ]
        }
      ]
    },
    {
      "cell_type": "code",
      "metadata": {
        "colab": {
          "base_uri": "https://localhost:8080/",
          "height": 167
        },
        "id": "GTIJHFZQR-KG",
        "outputId": "9308c58f-b82c-464d-bb01-966c030b377f"
      },
      "source": [
        "set1[0] # should throw an error-> this is an UNINDEXED DATA STRUCTURE!"
      ],
      "execution_count": null,
      "outputs": [
        {
          "output_type": "error",
          "ename": "TypeError",
          "evalue": "ignored",
          "traceback": [
            "\u001b[0;31m---------------------------------------------------------------------------\u001b[0m",
            "\u001b[0;31mTypeError\u001b[0m                                 Traceback (most recent call last)",
            "\u001b[0;32m<ipython-input-13-e47141953ec9>\u001b[0m in \u001b[0;36m<module>\u001b[0;34m()\u001b[0m\n\u001b[0;32m----> 1\u001b[0;31m \u001b[0mset1\u001b[0m\u001b[0;34m[\u001b[0m\u001b[0;36m0\u001b[0m\u001b[0;34m]\u001b[0m \u001b[0;31m# should throw an error-> this is an UNINDEXED DATA STRUCTURE!\u001b[0m\u001b[0;34m\u001b[0m\u001b[0;34m\u001b[0m\u001b[0m\n\u001b[0m",
            "\u001b[0;31mTypeError\u001b[0m: 'set' object is not subscriptable"
          ]
        }
      ]
    },
    {
      "cell_type": "code",
      "metadata": {
        "colab": {
          "base_uri": "https://localhost:8080/"
        },
        "id": "TPksSouyQq2j",
        "outputId": "1adedf6b-766c-4580-b14f-ea8bc7888cda"
      },
      "source": [
        "# list-> ORDERED, INDEXED\n",
        "list1 = ['banana', 'banana', 0, False]\n",
        "#.  index=.  0.      1.      2.  3 \n",
        "#.  index=.  -4      -3      -2.  -1 \n",
        "print(list1)\n",
        "print(list1[3])"
      ],
      "execution_count": null,
      "outputs": [
        {
          "output_type": "stream",
          "name": "stdout",
          "text": [
            "['banana', 'banana', 0, False]\n",
            "False\n"
          ]
        }
      ]
    },
    {
      "cell_type": "code",
      "metadata": {
        "colab": {
          "base_uri": "https://localhost:8080/"
        },
        "id": "Iab2TrcvREs9",
        "outputId": "5970a8dd-e833-4aa5-8387-3f742dfee193"
      },
      "source": [
        "print(list1[-1])"
      ],
      "execution_count": null,
      "outputs": [
        {
          "output_type": "stream",
          "name": "stdout",
          "text": [
            "False\n"
          ]
        }
      ]
    },
    {
      "cell_type": "code",
      "metadata": {
        "id": "2rOVQSXIRnIT"
      },
      "source": [
        "# Special Set-> Dictionary\n",
        "# Unordered, Indexed \n",
        "# indexing happens through KEY - VALUE pairs\n",
        "# list-> in case of a list, the index was automatically created\n",
        "# in case of set, we can create OUR indexing "
      ],
      "execution_count": null,
      "outputs": []
    },
    {
      "cell_type": "code",
      "metadata": {
        "id": "jdohsVGYSuT1"
      },
      "source": [
        "# Anything can be indexed! \n",
        "d1 = { 1 : 42,   \n",
        "      \"Pikachu\": -42,\n",
        "      False : \"hello world\"}"
      ],
      "execution_count": null,
      "outputs": []
    },
    {
      "cell_type": "code",
      "metadata": {
        "colab": {
          "base_uri": "https://localhost:8080/"
        },
        "id": "gFd1Va4US631",
        "outputId": "1e4d8b25-6b64-4c67-b489-74edda9e2cae"
      },
      "source": [
        "print(d1[False]) # Custom Indexing"
      ],
      "execution_count": null,
      "outputs": [
        {
          "output_type": "stream",
          "name": "stdout",
          "text": [
            "hello world\n"
          ]
        }
      ]
    },
    {
      "cell_type": "code",
      "metadata": {
        "id": "lzEGhz2YTAL1"
      },
      "source": [
        ""
      ],
      "execution_count": null,
      "outputs": []
    }
  ]
}